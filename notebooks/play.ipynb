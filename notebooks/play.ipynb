{
 "cells": [
  {
   "cell_type": "markdown",
   "source": [
    "# Data analisis"
   ],
   "metadata": {
    "collapsed": false,
    "pycharm": {
     "name": "#%% md\n"
    }
   }
  },
  {
   "cell_type": "code",
   "execution_count": 1,
   "metadata": {
    "collapsed": true,
    "pycharm": {
     "is_executing": false
    }
   },
   "outputs": [],
   "source": [
    "import os\n",
    "import torch\n",
    "\n",
    "files_names = ['sensitive1.tsv', 'sensitive2.tsv', 'sensitive3.tsv']\n",
    "files = [os.path.join(os.pardir, 'data', f) for f in files_names]\n"
   ]
  },
  {
   "cell_type": "code",
   "execution_count": 2,
   "outputs": [
    {
     "name": "stdout",
     "text": [
      "3323\n"
     ],
     "output_type": "stream"
    }
   ],
   "source": [
    "import pandas as pd\n",
    "from corpus_process import Corpus\n",
    "\n",
    "c = Corpus(files)\n",
    "x, y = c.read_tsv()\n",
    "\n",
    "\n",
    "print(len(x))"
   ],
   "metadata": {
    "collapsed": false,
    "pycharm": {
     "name": "#%%\n",
     "is_executing": false
    }
   }
  },
  {
   "cell_type": "markdown",
   "source": [
    "### Total count of sentences with a least one label\n",
    "Discarting \"B-subject\""
   ],
   "metadata": {
    "collapsed": false
   }
  },
  {
   "cell_type": "code",
   "execution_count": 3,
   "outputs": [
    {
     "data": {
      "text/plain": "1601"
     },
     "metadata": {},
     "output_type": "execute_result",
     "execution_count": 3
    }
   ],
   "source": [
    "cnt = 0\n",
    "for tags in y:\n",
    "    ok = False\n",
    "    for tag in tags:\n",
    "        if tag != 'O' and tag != 'B-subject':\n",
    "            ok = True\n",
    "    if ok:\n",
    "        cnt += 1\n",
    "            \n",
    "cnt"
   ],
   "metadata": {
    "collapsed": false,
    "pycharm": {
     "name": "#%%\n",
     "is_executing": false
    }
   }
  },
  {
   "cell_type": "markdown",
   "source": [
    "### Count of B-labels"
   ],
   "metadata": {
    "collapsed": false,
    "pycharm": {
     "name": "#%% md\n"
    }
   }
  },
  {
   "cell_type": "code",
   "execution_count": 4,
   "outputs": [
    {
     "data": {
      "text/plain": "{'B-preference': 1444, 'B-object': 1860, 'B-activity': 544, 'B-fact': 103}"
     },
     "metadata": {},
     "output_type": "execute_result",
     "execution_count": 4
    }
   ],
   "source": [
    "labels = {\"B-preference\" : 0, \"B-object\" :0, \"B-activity\": 0, \"B-fact\" : 0}\n",
    "for tags in y:\n",
    "    for tag in tags:\n",
    "        if tag in labels:\n",
    "            labels[tag] += 1\n",
    "\n",
    "labels\n"
   ],
   "metadata": {
    "collapsed": false,
    "pycharm": {
     "name": "#%%\n",
     "is_executing": false
    }
   }
  },
  {
   "cell_type": "markdown",
   "source": [
    "### Repeated sentences"
   ],
   "metadata": {
    "collapsed": false,
    "pycharm": {
     "name": "#%% md\n"
    }
   }
  },
  {
   "cell_type": "code",
   "execution_count": 5,
   "outputs": [
    {
     "name": "stdout",
     "text": [
      "(('wow', '!'), 7)\n(('hi', '!'), 12)\n(('you', '?'), 15)\n(('i', 'love', 'it', '.'), 3)\n(('i', 'am', '.'), 3)\n(('how', 'about', 'you', '?'), 31)\n(('no', ',', 'i', 'do', \"n't\", '.'), 2)\n(('ha', '!'), 7)\n(('really', '?'), 3)\n(('i', 'agree', '!'), 2)\n(('i', 'used', 'to', 'play', '.'), 2)\n(('that', 'is', 'awesome', '!'), 2)\n(('yes', '.'), 12)\n(('what', 'about', 'you', '?'), 22)\n(('nice', '.'), 3)\n(('i', 'love', 'hockey', '.'), 2)\n(('i', 'do', '.'), 12)\n(('yes', 'i', 'am', '.'), 2)\n(('thats', 'interesting', '.'), 2)\n(('do', 'you', '?'), 7)\n(('i', 'do', '!'), 3)\n(('not', 'really', '.'), 3)\n(('i', 'love', 'comedy', '.'), 2)\n(('i', 'love', 'dogs', '.'), 3)\n(('lol', '.'), 12)\n(('hello', '.'), 5)\n(('i', 'agree', '.'), 6)\n(('no', '.'), 2)\n(('hey', 'there', '!'), 2)\n(('i', 'do', 'too', '.'), 2)\n(('hi', 'there', '.'), 3)\n(('interesting', '.'), 4)\n(('that', 'is', 'so', 'cool', '!'), 2)\n(('that', \"'\", 's', 'pretty', 'cool', '.'), 2)\n(('haha', '!'), 3)\n(('i', 'love', 'horror', 'movies', '.'), 2)\n(('sometimes', '.'), 2)\n(('me', 'too', '!'), 3)\n(('me', 'too', '.'), 3)\n(('hello', ',', 'how', 'are', 'you', '?'), 2)\n(('yeah', '.'), 9)\n(('have', 'you', 'seen', 'it', '?'), 2)\n(('no', 'i', 'did', \"n't\", '.'), 2)\n(('anyway', ',', 'great', 'chat', '!'), 2)\n(('i', 'have', 'not', '.'), 4)\n(('i', 'like', 'some', '.'), 2)\n(('nice', 'chatting', 'with', 'you', '!'), 2)\n(('how', 'about', 'yourself', '?'), 2)\n(('i', 'love', 'them', '.'), 5)\n(('i', 'love', 'them', '!'), 2)\n(('that', \"'\", 's', 'a', 'good', 'point', '.'), 3)\n(('do', 'you', 'like', 'it', '?'), 5)\n(('i', 'do', \"n't\", 'think', 'so', '.'), 2)\n(('i', 'love', 'it', '!'), 2)\n(('yes', '!'), 2)\n(('wow', '.'), 2)\n(('i', 'love', 'horses', '!'), 2)\n(('what', 'do', 'you', 'think', '?'), 2)\n(('oh', '!'), 2)\n(('that', \"'\", 's', 'nice', '.'), 2)\n(('i', 'do', 'watch', 'fox', 'news', '.'), 2)\n"
     ],
     "output_type": "stream"
    }
   ],
   "source": [
    "n = len(x)\n",
    "count = {tuple(s) : 0 for s in x}\n",
    "\n",
    "for s in x:\n",
    "    count[tuple(s)] += 1\n",
    "\n",
    "\n",
    "for it in count.items():\n",
    "    if it[1] > 1:\n",
    "        print(it)\n"
   ],
   "metadata": {
    "collapsed": false,
    "pycharm": {
     "name": "#%%\n",
     "is_executing": false
    }
   }
  },
  {
   "cell_type": "markdown",
   "source": [
    "### Analising \"facts\" labels"
   ],
   "metadata": {
    "collapsed": false,
    "pycharm": {
     "name": "#%% md\n"
    }
   }
  },
  {
   "cell_type": "code",
   "execution_count": 6,
   "outputs": [
    {
     "name": "stdout",
     "text": [
      "['i', 'have', 'a', 'violin', 'but', 'i', 'ca', \"n't\", 'play', 'it', ',', 'what', 'about', 'you', '?']\n['i', 'have', 'two', 'dogs', '.']\n['i', 'do', 'have', 'a', 'pet', 'snake', ',', 'non', 'venomous', 'though', ',', 'although', 'it', 'would', 'be', 'pretty', 'cool', 'to', 'have', 'antivenom', 'blood', 'like', 'that', 'guy', 'who', 'was', 'bitten', 'so', 'many', 'times', '.']\n['i', 'used', 'to', 'be', 'a', 'boy', 'scout', 'and', 'do', \"n't\", 'remember', 'all', 'those', 'badge', '.', '.']\n['i', 'am', 'afraid', 'of', 'horror', '.']\n['i', 'also', 'have', 'an', 'allergy', 'to', 'horsehair', ',', 'like', 'by', 'idol', ',', 'clint', 'eastwood', '.']\n['i', 'do', 'have', 'an', 'iphone', '5', ',', 'because', 'i', 'used', 'to', 'only', 'use', 'apple', ',', 'it', 'just', 'seems', 'that', 'the', 'android', 'has', 'a', 'little', 'more', 'to', 'offer', 'as', 'far', 'as', 'what', 'i', 'want', 'and', 'need', 'my', 'cell', 'phone', 'to', 'do', 'i', 'guess', '.']\n['my', 'family', 'all', 'has', 'apple', 'products', '.', '.']\n['i', 'lived', 'in', 'miami', 'for', 'a', 'while', 'and', 'i', 'called', 'the', 'water', 'fountain', 'a', 'bubbler', '.']\n['i', 'have', 'a', 'dog', 'too', 'so', 'i', 'would', 'say', 'i', 'am', 'a', 'dog', 'person', 'for', 'sure', ',', 'just', 'love', 'them', '.']\n['i', 'bought', 'an', 'rc', 'sailplane', 'so', 'i', 'can', 'fly', 'like', 'that', '.']\n['i', 'lived', 'in', 'belgium', 'when', 'i', 'was', 'little', '.']\n['i', 'am', 'a', 'proud', 'american', 'so', 'of', 'course', 'i', 'root', 'for', 'the', 'u.s', '.', 'men', \"'\", 's', 'team', 'but', 'when', 'they', 'get', 'knocked', 'out', 'i', 'switch', 'to', 'england', '.', '.']\n['some', 'of', 'our', 'family', 'used', 'to', 'live', 'in', 'spain', ',', 'so', 'we', 'just', 'grew', 'up', 'loving', 'the', 'team', '.', '.']\n['i', 'live', 'near', 'the', 'beach', 'and', 'there', 'have', 'been', 'many', 'times', 'birds', 'have', 'tried', 'to', 'attack', 'me', 'for', 'my', 'snacks', '.', ':', ')', 'crazy', 'aves', 'aka', 'birds', '.', '.']\n['i', 'am', 'from', 'oklahoma', 'and', 'did', 'not', 'know', 'the', 'state', 'rock', 'song', 'is', '`', '`', 'do', 'you', 'realize', '?']\n['i', 'do', \"n't\", 'play', 'much', 'either', 'but', 'have', 'an', 'xbox', 'one', ',', 'i', 'think', 'that', 'game', 'fe', 'can', 'be', 'an', 'interesting', 'choice', 'for', 'a', 'weekend', '.']\n['i', 'have', 'two', 'garfield', 'cats', '.']\n['i', 'have', 'a', 'dog', 'also', ',', 'love', 'them', 'all', '!']\n['i', 'live', 'with', '2', 'cats', ';', 'im', 'not', 'a', 'fan', 'but', 'love', 'dogs', '!']\n['i', 'live', 'in', 'chicago', 'and', 'its', 'supposed', 'to', 'be', '-', '40', 'tomorrow', '.']\n['i', 'actually', 'do', 'not', 'have', 'instagram', ',', 'i', 'think', 'it', 'can', 'be', 'pretty', 'addicting', 'and', 'toxic', 'for', 'some', 'people', ',', 'and', 'i', 'think', 'i', \"'\", 'm', 'one', 'of', 'those', 'people', '.']\n['i', 'used', 'to', 'have', 'a', 'baseball', 'card', 'collection', ',', 'i', 'should', 'check', 'and', 'see', 'what', 'it', 'is', 'worth', '.', '.', 'oh', 'wow', 'i', 'did', \"n't\", 'know', 'children', 'of', 'men', 'only', 'made', 'that', 'much', ',', 'i', 'actually', 'like', 'that', 'movie', 'a', 'lot', ',', 'i', 'did', 'remember', 'disney', \"'\", 's', 'treasure', 'planet', 'movie', ',', 'that', 'was', 'a', 'huge', 'bomb', ',', 'i', 'saw', 'it', 'recently', 'its', 'ok', 'but', 'i', 'can', 'see', 'why', 'it', 'was', \"n't\", 'successful', '.']\n['i', 'have', 'a', 'dog', 'that', 'loves', 'a', 'yellow', 'ball', 'and', 'she', 'ignores', 'the', 'other', 'colored', 'balls', '.']\n['i', 'have', 'a', 'ps4', '.']\n['in', 'fact', 'i', 'have', 'a', 'pool', '.', '.']\n['i', \"'\", 'd', 'like', 'to', 'imagine', 'that', 'i', \"'\", 'm', 'a', 'professional', 'dancer', ',', 'but', 'nobody', 'seems', 'to', 'want', 'to', 'pay', 'me', 'money', '.']\n['in', 'actuality', 'i', \"'\", 'm', 'a', 'biomedical', 'equipment', 'technician', 'at', 'a', 'children', \"'\", 's', 'hospital', '.', '.']\n['i', 'do', 'admire', 'stan', 'lee', 'though', '.', '.']\n['i', 'am', ',', 'i', \"'\", 'm', 'from', 'michigan', 'actually', 'and', 'never', 'knew', 'that', '!']\n['i', 'have', 'a', 'pc', '.']\n['i', 'am', 'in', 'the', 'united', 'states', ',', 'and', 'its', 'going', 'to', 'get', 'much', 'colder', '.']\n['i', 'am', 'from', 'oklahoma', 'originally', '.']\n['i', 'am', 'from', 'texas', 'and', 'i', 'love', 'beto', \"o'rourke\", '.']\n['i', 'use', 'an', 'iphone', ',', 'even', 'though', 'one', 'can', 'not', 'smoke', 'near', 'one', 'since', 'that', 'is', 'a', 'biohazard', '!']\n['they', 'have', 'a', 'cat', 'cafe', 'near', 'my', 'house', 'so', 'i', 'do', \"n't\", 'have', 'to', 'take', 'a', 'trip', 'to', 'japan', '.']\n['kids', 'have', 'rabbits', 'each', ',', 'and', 'we', 'have', 'a', 'small', 'dog', '.']\n['i', 'dont', 'like', 'the', 'new', 'ones', 'either', ',', 'i', 'loved', 'episode', 'i', 'and', 'episode', 'iii', 'but', 'rogue', 'one', 'was', 'terrible', '.', 'he', 'was', 'a', 'dancer', ',', 'so', 'i', 'understood', '.', 'i', 'thought', 'he', 'patterned', 'his', 'look', 'off', 'of', 'aladdin', ',', 'not', 'the', 'other', 'way', 'around', '.', '.']\n['i', 'have', 'a', 'personal', 'computer', '.']\n['i', 'had', 'a', 'fire', 'tablet', 'but', 'now', 'use', 'the', 'kindle', 'app', 'on', 'my', 'ipad', '.']\n['i', 'do', 'use', 'kindle', ',', 'what', 'about', 'you', '?']\n['i', 'have', 'a', 'playstation', '4', 'an', 'i', 'am', 'exited', 'to', 'buy', '`', '`', 'ananmorphine', \"'\", \"'\", 'its', 'a', 'game', 'that', 'shows', 'a', 'lot', 'of', 'promise', '.', '.']\n['i', 'am', 'allergic', 'to', 'dogs', ',', 'which', 'i', 'found', 'out', 'when', 'my', 'st', 'bernard', 'was', 'like', '2', '.']\n['i', 'have', '2', 'cats', 'and', 'hate', 'one', 'of', 'them', 'and', 'tolerate', 'the', 'other', '.', '.']\n['i', 'have', 'three', 'kids', '.']\n['i', 'like', 'the', 'columbus', 'blue', 'jackets', 'since', 'i', \"'\", 'm', 'from', 'ohio', '.']\n['i', \"'\", 'm', 'in', 'ohio', 'but', 'i', 'love', 'chicago', '.']\n['i', 'use', 'to', 'own', 'an', 'original', 'and', 'had', 'a', 'demo', 'for', 'metal', 'gear', 'solid', 'but', 'never', 'had', 'the', 'game', '.']\n['i', 'am', 'a', 'big', 'fan', ',', 'but', 'being', 'from', 'new', 'orleans', 'where', 'jazz', 'originated', ',', 'its', 'almost', 'a', 'requirement', '.', '.']\n['we', 'love', 'dogs', 'and', 'have', '2', '.']\n['yes', 'i', 'am', 'a', 'big', 'democrat', '.']\n['im', 'from', 'florida', ',', 'the', 'one', 'state', 'that', 'cant', 'seem', 'to', 'do', 'an', 'election', 'and', 'voting', 'correctly', '.', '.']\n['i', 'am', 'from', 'massachusetts', '.']\n['i', \"'\", 'm', 'from', 'the', 'midwest', 'so', 'you', 'do', \"n't\", 'have', 'to', 'hate', 'me', 'haha', '.']\n['i', 'was', 'an', 'english', 'major', 'in', 'college', ',', 'so', 'even', 'though', 'i', 'took', 'a', 'lot', 'of', 'literature', 'classes', ',', 'i', 'appreciate', 'poetry', ',', 'too', '.']\n['i', 'have', 'a', 'dog', 'only', 'but', 'i', 'also', 'like', 'horses', '.']\n['i', 'live', 'in', 'south', 'alabama', '.']\n['i', 'used', 'to', 'have', 'a', 'dog', 'who', 'was', 'terrified', 'when', 'i', 'pulled', 'the', 'garden', 'through', 'the', 'grass', 'lol', '.', '.']\n['i', 'have', 'an', 'android', '.']\n['i', 'do', 'enjoy', 'his', 'humor', ',', 'but', 'i', 'am', 'a', 'capitalist', 'and', 'not', 'a', 'socialist', 'so', 'i', 'do', \"n't\", 'agree', 'with', 'him', 'politically', '.']\n['i', 'have', 'huawei', ';', ')', 'android', 'phone', ':', ')', 'you', '?']\n['i', 'am', 'a', 'music', 'fan', ',', 'but', 'never', 'really', 'go', 'because', 'i', 'always', 'think', 'most', 'artists', 'sound', 'worse', 'live', '.', '.', 'yeah', 'i', 'am', 'an', 'artist', 'but', 'i', 'think', 'doing', 'that', 'besides', 'a', 'janitor', 'job', 'is', 'a', 'talent', 'beyond', 'imagination', '.', '.']\n['lived', 'in', 'dc', 'for', 'a', 'while', ',', 'bout', 'five', 'mile', 'north', 'of', 'alexandria', ',', 'i', 'know', 'a', 'number', 'of', 'people', 'that', 'work', 'at', 'the', 'patent', 'and', 'trademark', 'office', ',', 'that', \"'\", 's', 'why', 'i', 'should', 'have', 'known', '.', '.']\n['.', 'we', 'used', 'to', 'have', 'a', 'dog', 'but', 'she', 'is', 'gone', ',', 'i', 'actually', 'wanted', 'to', 'get', 'a', 'dog', 'yesterday', 'i', 'was', 'at', 'the', 'pet', 'store', 'and', 'they', 'had', 'a', 'super', 'cute', 'shih', 'tzu', 'there', 'that', 'i', 'held', '!']\n['i', 'love', 'all', 'his', 'music', 'and', 'his', 'music', 'videos', 'were', 'very', 'creative', '.', 'ah', 'i', 'do', \"n't\", 'have', 'cable', 'so', 'i', 'just', 'watch', 'movies', 'and', 'youtube', ',', 'but', 'ya', 'i', 'guess', 'the', 'first', 'youtube', 'video', 'ever', 'uploaded', 'was', 'an', 'elephant', 'and', 'a', 'guy', 'talking', 'to', 'it', '.']\n['i', 'have', 'a', 'cousin', 'that', 'was', 'his', 'great', 'fan', 'because', 'of', 'his', 'genius', 'level', 'iq', '.']\n['i', 'want', 'to', 'become', 'a', 'professional', 'race', 'car', 'driver', 'though', '-', 'i', 'am', 'pretty', 'good', 'at', 'video', 'games', '.']\n['i', 'have', '2', 'kids', 'and', 'a', 'bunch', 'of', 'jobs', 'so', 'i', 'do', 'not', 'have', 'much', 'free', 'time', '.']\n['i', 'am', 'fron', 'chicago', 'and', 'an', 'illini', 'fan', '.']\n['i', 'have', 'older', 'family', 'members', 'who', 'watch', 'a', 'lot', 'of', 'fox', 'news', '.', '.']\n['i', 'like', 'it', 'but', 'i', 'am', 'a', 'really', 'bad', 'player', '!']\n['i', 'have', 'a', 'young', 'family', ',', 'all', 'my', 'free', 'time', 'seems', 'to', 'have', 'vanished', '.']\n['i', 'live', 'in', 'the', 'south', 'and', 'golf', 'courses', 'are', 'everywhere', 'here', ';', 'they', 'take', 'up', 'more', 'space', 'than', 'rhode', 'island', 'and', 'delaware', 'combined', 'in', 'america', '.', 'eminem', 'is', 'pretty', 'cool', ',', 'but', 'really', 'the', 'oscars', 'seem', 'too', 'political', '.', 'i', 'figure', 'they', 'dole', 'out', 'favors', 'to', 'their', 'favorites', '.', '.']\n['i', 'have', 'a', 'google', 'phone', '.']\n['i', 'used', 'to', 'have', 'snakes', '.']\n['i', 'had', 'a', 'mouse', 'that', 'ate', 'my', 'snake', 'once', '.']\n['my', 'son', 'loves', 'pokemon', ',', 'they', 'have', 'made', 'over', '750', 'episodes', 'and', 'i', \"'\", 'm', 'sure', 'he', \"'\", 's', 'watched', 'all', 'of', 'them', '.', '.', 'oh', 'haha', 'i', 'do', \"n't\", 'have', 'it', ',', 'i', 'just', 'watch', 'youtube', ',', 'but', 'ya', 'ca', \"n't\", 'believe', 'blockbuster', 'had', 'the', 'chance', 'to', 'buy', 'them', 'for', 'only', '50', 'million', '!']\n['i', 'have', 'two', 'sons', '.']\n['i', 'am', 'a', 'facebook', 'user', 'not', 'into', 'much', 'other', 'than', 'that', ',', 'how', 'about', 'you', '?']\n['i', 'live', 'in', 'the', 'city', 'so', 'there', \"'\", 's', 'lots', 'to', 'do', '.']\n['i', 'have', 'cats', 'now', '.']\n['not', 'really', ',', 'i', \"'\", 'm', 'not', 'originally', 'from', 'the', 'us', 'so', 'it', 'is', 'not', 'in', 'my', 'blood', ',', 'it', 'is', 'another', 'thing', 'that', 'does', 'not', 'say', 'entertainment', 'to', 'me', '.']\n['i', 'have', 'a', 'dog', ',', 'i', 'enjoy', 'the', 'peaceful', 'entertainment', 'of', 'a', 'long', 'walk', 'with', 'then', 'dog', '.', '.']\n['i', 'used', 'to', 'love', 'norm', 'macdonald', 'on', 'that', 'show', '.']\n['i', 'was', 'familiar', 'with', 'the', 'giants', 'since', 'i', 'used', 'to', 'live', 'in', 'the', 'bat', 'area', '.', '.']\n['i', 'used', 'to', 'have', 'a', 'husky', '.']\n['i', 'live', 'in', 'a', 'small', 'town', '.']\n['yea', ',', 'i', 'have', 'actually', 'been', 'to', 'japan', ',', 'lots', 'of', 'pet', 'rabbits', 'and', 'reptiles', 'there', '.', '.']\n['i', 'do', \"n't\", 'have', 'any', 'children', ',', 'and', 'while', 'i', 'do', 'like', 'disney', ',', 'my', 'tastes', 'in', 'tv', 'usually', 'lean', 'more', 'towards', 'sci-fi', '/', 'fantasy', '.', '.']\n['i', 'live', 'in', 'michigan', 'so', 'i', 'have', 'been', 'there', 'a', 'few', 'times', '.']\n['i', 'am', 'not', 'a', 'soccer', 'fan', ',', 'i', 'live', 'in', 'the', 'us', '.']\n['since', 'i', 'am', 'canadian', ',', '40', '%', 'of', 'the', 'music', 'on', 'the', 'radio', 'that', 'i', 'hear', 'come', 'from', 'canadian', 'artist', '.']\n['the', 'bulls', ',', 'i', 'am', 'from', 'chicago', '.']\n['i', 'live', 'in', 'a', 'part', 'of', 'the', 'world', 'with', 'a', 'lot', 'of', 'snow', ',', 'so', 'i', \"'\", 'm', 'more', 'used', 'to', 'ice', 'hockey', '.']\n['i', 'live', 'in', 'michigan', 'so', 'it', 'was', 'interesting', 'for', 'me', 'to', 'learn', '.']\n['i', 'am', 'from', 'las', 'vegas', '.']\n['i', 'do', 'have', 'netflix', 'i', 'love', 'stranger', 'things', '!']\n['we', 'had', 'a', 'cadillac', 'convertible', 'when', 'i', 'was', 'a', 'kid', '.']\n['i', 'use', 'to', 'live', 'near', 'lake', 'michigan', '.']\n"
     ],
     "output_type": "stream"
    }
   ],
   "source": [
    "for i, sent in enumerate(x):\n",
    "    ok = False\n",
    "    for tag in y[i]:\n",
    "        if tag == 'B-fact' or tag == 'I-fact':\n",
    "            ok = True\n",
    "    \n",
    "    if ok:\n",
    "        print(sent)"
   ],
   "metadata": {
    "collapsed": false,
    "pycharm": {
     "name": "#%%\n",
     "is_executing": false
    }
   }
  }
 ],
 "metadata": {
  "kernelspec": {
   "name": "python3",
   "language": "python",
   "display_name": "Python 3"
  },
  "language_info": {
   "codemirror_mode": {
    "name": "ipython",
    "version": 2
   },
   "file_extension": ".py",
   "mimetype": "text/x-python",
   "name": "python",
   "nbconvert_exporter": "python",
   "pygments_lexer": "ipython2",
   "version": "2.7.6"
  },
  "pycharm": {
   "stem_cell": {
    "cell_type": "raw",
    "source": [],
    "metadata": {
     "collapsed": false
    }
   }
  }
 },
 "nbformat": 4,
 "nbformat_minor": 0
}