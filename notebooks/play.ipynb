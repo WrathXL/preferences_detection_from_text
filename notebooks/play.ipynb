{
 "cells": [
  {
   "cell_type": "markdown",
   "source": [
    "# Data analisis"
   ],
   "metadata": {
    "collapsed": false,
    "pycharm": {
     "name": "#%% md\n"
    }
   }
  },
  {
   "cell_type": "code",
   "execution_count": 1,
   "metadata": {
    "collapsed": true
   },
   "outputs": [],
   "source": [
    "import os\n",
    "import torch\n",
    "\n",
    "files_names = ['sensitive1.tsv', 'sensitive3.tsv']\n",
    "files = [os.path.join(os.pardir, 'data', f) for f in files_names]\n"
   ]
  },
  {
   "cell_type": "code",
   "execution_count": 2,
   "outputs": [
    {
     "name": "stdout",
     "output_type": "stream",
     "text": [
      "2455\n"
     ]
    }
   ],
   "source": [
    "import pandas as pd\n",
    "from corpus_process import Corpus\n",
    "\n",
    "c = Corpus(files)\n",
    "x, y = c.read_tsv()\n",
    "\n",
    "\n",
    "print(len(x))"
   ],
   "metadata": {
    "collapsed": false,
    "pycharm": {
     "name": "#%%\n"
    }
   }
  },
  {
   "cell_type": "markdown",
   "source": [
    "### Total count of sentences with a least one label\n",
    "Discarting \"B-subject\""
   ],
   "metadata": {
    "collapsed": false
   }
  },
  {
   "cell_type": "code",
   "execution_count": 3,
   "outputs": [
    {
     "data": {
      "text/plain": "1166"
     },
     "execution_count": 3,
     "metadata": {},
     "output_type": "execute_result"
    }
   ],
   "source": [
    "cnt = 0\n",
    "for tags in y:\n",
    "    ok = False\n",
    "    for tag in tags:\n",
    "        if tag != 'O' and tag != 'B-subject':\n",
    "            ok = True\n",
    "    if ok:\n",
    "        cnt += 1\n",
    "            \n",
    "cnt"
   ],
   "metadata": {
    "collapsed": false,
    "pycharm": {
     "name": "#%%\n"
    }
   }
  },
  {
   "cell_type": "markdown",
   "source": [
    "### Count of B-labels"
   ],
   "metadata": {
    "collapsed": false,
    "pycharm": {
     "name": "#%% md\n"
    }
   }
  },
  {
   "cell_type": "code",
   "execution_count": 4,
   "outputs": [
    {
     "name": "stdout",
     "output_type": "stream",
     "text": [
      "5111\n"
     ]
    },
    {
     "data": {
      "text/plain": "{'B-preference': 1079,\n 'B-object': 1373,\n 'B-activity': 399,\n 'B-fact': 69,\n 'B-subject': 2294}"
     },
     "execution_count": 4,
     "metadata": {},
     "output_type": "execute_result"
    }
   ],
   "source": [
    "labels = {\"B-preference\" : 0, \"B-object\" :0, \"B-activity\": 0, \"B-fact\" : 0, 'B-subject' : 0}\n",
    "for tags in y:\n",
    "    for tag in tags:\n",
    "        if tag in labels:\n",
    "            labels[tag] += 1\n",
    "\n",
    "total = sum(labels.values())\n",
    "print(total - 103)\n",
    "labels\n"
   ],
   "metadata": {
    "collapsed": false,
    "pycharm": {
     "name": "#%%\n"
    }
   }
  },
  {
   "cell_type": "markdown",
   "source": [
    "### Repeated sentences"
   ],
   "metadata": {
    "collapsed": false,
    "pycharm": {
     "name": "#%% md\n"
    }
   }
  },
  {
   "cell_type": "code",
   "execution_count": 5,
   "outputs": [
    {
     "name": "stdout",
     "output_type": "stream",
     "text": [
      "(('wow', '!'), 5)\n",
      "(('hi', '!'), 9)\n",
      "(('you', '?'), 12)\n",
      "(('i', 'am', '.'), 3)\n",
      "(('how', 'about', 'you', '?'), 24)\n",
      "(('no', ',', 'i', 'do', \"n't\", '.'), 2)\n",
      "(('ha', '!'), 7)\n",
      "(('really', '?'), 3)\n",
      "(('i', 'used', 'to', 'play', '.'), 2)\n",
      "(('yes', '.'), 7)\n",
      "(('what', 'about', 'you', '?'), 14)\n",
      "(('nice', '.'), 3)\n",
      "(('i', 'love', 'hockey', '.'), 2)\n",
      "(('i', 'do', '.'), 11)\n",
      "(('thats', 'interesting', '.'), 2)\n",
      "(('do', 'you', '?'), 5)\n",
      "(('i', 'do', '!'), 3)\n",
      "(('not', 'really', '.'), 2)\n",
      "(('i', 'love', 'dogs', '.'), 3)\n",
      "(('lol', '.'), 7)\n",
      "(('hello', '.'), 4)\n",
      "(('i', 'agree', '.'), 3)\n",
      "(('hey', 'there', '!'), 2)\n",
      "(('interesting', '.'), 3)\n",
      "(('that', \"'\", 's', 'pretty', 'cool', '.'), 2)\n",
      "(('haha', '!'), 3)\n",
      "(('i', 'love', 'horror', 'movies', '.'), 2)\n",
      "(('sometimes', '.'), 2)\n",
      "(('me', 'too', '!'), 2)\n",
      "(('me', 'too', '.'), 2)\n",
      "(('hello', ',', 'how', 'are', 'you', '?'), 2)\n",
      "(('yeah', '.'), 6)\n",
      "(('have', 'you', 'seen', 'it', '?'), 2)\n",
      "(('anyway', ',', 'great', 'chat', '!'), 2)\n",
      "(('i', 'have', 'not', '.'), 2)\n",
      "(('wow', '.'), 2)\n",
      "(('i', 'love', 'horses', '!'), 2)\n",
      "(('what', 'do', 'you', 'think', '?'), 2)\n",
      "(('i', 'love', 'them', '.'), 4)\n",
      "(('oh', '!'), 2)\n",
      "(('that', \"'\", 's', 'nice', '.'), 2)\n",
      "(('do', 'you', 'like', 'it', '?'), 3)\n",
      "(('i', 'do', 'watch', 'fox', 'news', '.'), 2)\n"
     ]
    }
   ],
   "source": [
    "n = len(x)\n",
    "count = {tuple(s) : 0 for s in x}\n",
    "\n",
    "for s in x:\n",
    "    count[tuple(s)] += 1\n",
    "\n",
    "\n",
    "for it in count.items():\n",
    "    if it[1] > 1:\n",
    "        print(it)\n"
   ],
   "metadata": {
    "collapsed": false,
    "pycharm": {
     "name": "#%%\n"
    }
   }
  },
  {
   "cell_type": "markdown",
   "source": [
    "### Analising \"facts\" labels"
   ],
   "metadata": {
    "collapsed": false,
    "pycharm": {
     "name": "#%% md\n"
    }
   }
  },
  {
   "cell_type": "code",
   "execution_count": 6,
   "outputs": [
    {
     "name": "stdout",
     "output_type": "stream",
     "text": [
      "['i', 'have', 'a', 'violin', 'but', 'i', 'ca', \"n't\", 'play', 'it', ',', 'what', 'about', 'you', '?']\n",
      "['i', 'have', 'two', 'dogs', '.']\n",
      "['i', 'do', 'have', 'a', 'pet', 'snake', ',', 'non', 'venomous', 'though', ',', 'although', 'it', 'would', 'be', 'pretty', 'cool', 'to', 'have', 'antivenom', 'blood', 'like', 'that', 'guy', 'who', 'was', 'bitten', 'so', 'many', 'times', '.']\n",
      "['i', 'used', 'to', 'be', 'a', 'boy', 'scout', 'and', 'do', \"n't\", 'remember', 'all', 'those', 'badge', '.', '.']\n",
      "['i', 'am', 'afraid', 'of', 'horror', '.']\n",
      "['i', 'also', 'have', 'an', 'allergy', 'to', 'horsehair', ',', 'like', 'by', 'idol', ',', 'clint', 'eastwood', '.']\n",
      "['i', 'do', 'have', 'an', 'iphone', '5', ',', 'because', 'i', 'used', 'to', 'only', 'use', 'apple', ',', 'it', 'just', 'seems', 'that', 'the', 'android', 'has', 'a', 'little', 'more', 'to', 'offer', 'as', 'far', 'as', 'what', 'i', 'want', 'and', 'need', 'my', 'cell', 'phone', 'to', 'do', 'i', 'guess', '.']\n",
      "['my', 'family', 'all', 'has', 'apple', 'products', '.', '.']\n",
      "['i', 'lived', 'in', 'miami', 'for', 'a', 'while', 'and', 'i', 'called', 'the', 'water', 'fountain', 'a', 'bubbler', '.']\n",
      "['i', 'have', 'a', 'dog', 'too', 'so', 'i', 'would', 'say', 'i', 'am', 'a', 'dog', 'person', 'for', 'sure', ',', 'just', 'love', 'them', '.']\n",
      "['i', 'bought', 'an', 'rc', 'sailplane', 'so', 'i', 'can', 'fly', 'like', 'that', '.']\n",
      "['i', 'lived', 'in', 'belgium', 'when', 'i', 'was', 'little', '.']\n",
      "['i', 'am', 'a', 'proud', 'american', 'so', 'of', 'course', 'i', 'root', 'for', 'the', 'u.s', '.', 'men', \"'\", 's', 'team', 'but', 'when', 'they', 'get', 'knocked', 'out', 'i', 'switch', 'to', 'england', '.', '.']\n",
      "['some', 'of', 'our', 'family', 'used', 'to', 'live', 'in', 'spain', ',', 'so', 'we', 'just', 'grew', 'up', 'loving', 'the', 'team', '.', '.']\n",
      "['i', 'live', 'near', 'the', 'beach', 'and', 'there', 'have', 'been', 'many', 'times', 'birds', 'have', 'tried', 'to', 'attack', 'me', 'for', 'my', 'snacks', '.', ':', ')', 'crazy', 'aves', 'aka', 'birds', '.', '.']\n",
      "['i', 'am', 'from', 'oklahoma', 'and', 'did', 'not', 'know', 'the', 'state', 'rock', 'song', 'is', '`', '`', 'do', 'you', 'realize', '?']\n",
      "['i', 'do', \"n't\", 'play', 'much', 'either', 'but', 'have', 'an', 'xbox', 'one', ',', 'i', 'think', 'that', 'game', 'fe', 'can', 'be', 'an', 'interesting', 'choice', 'for', 'a', 'weekend', '.']\n",
      "['i', 'have', 'two', 'garfield', 'cats', '.']\n",
      "['i', 'have', 'a', 'dog', 'also', ',', 'love', 'them', 'all', '!']\n",
      "['i', 'live', 'with', '2', 'cats', ';', 'im', 'not', 'a', 'fan', 'but', 'love', 'dogs', '!']\n",
      "['i', 'live', 'in', 'chicago', 'and', 'its', 'supposed', 'to', 'be', '-', '40', 'tomorrow', '.']\n",
      "['i', 'actually', 'do', 'not', 'have', 'instagram', ',', 'i', 'think', 'it', 'can', 'be', 'pretty', 'addicting', 'and', 'toxic', 'for', 'some', 'people', ',', 'and', 'i', 'think', 'i', \"'\", 'm', 'one', 'of', 'those', 'people', '.']\n",
      "['i', 'used', 'to', 'have', 'a', 'baseball', 'card', 'collection', ',', 'i', 'should', 'check', 'and', 'see', 'what', 'it', 'is', 'worth', '.', '.', 'oh', 'wow', 'i', 'did', \"n't\", 'know', 'children', 'of', 'men', 'only', 'made', 'that', 'much', ',', 'i', 'actually', 'like', 'that', 'movie', 'a', 'lot', ',', 'i', 'did', 'remember', 'disney', \"'\", 's', 'treasure', 'planet', 'movie', ',', 'that', 'was', 'a', 'huge', 'bomb', ',', 'i', 'saw', 'it', 'recently', 'its', 'ok', 'but', 'i', 'can', 'see', 'why', 'it', 'was', \"n't\", 'successful', '.']\n",
      "['i', 'have', 'a', 'dog', 'that', 'loves', 'a', 'yellow', 'ball', 'and', 'she', 'ignores', 'the', 'other', 'colored', 'balls', '.']\n",
      "['i', 'have', 'a', 'ps4', '.']\n",
      "['in', 'fact', 'i', 'have', 'a', 'pool', '.', '.']\n",
      "['i', \"'\", 'd', 'like', 'to', 'imagine', 'that', 'i', \"'\", 'm', 'a', 'professional', 'dancer', ',', 'but', 'nobody', 'seems', 'to', 'want', 'to', 'pay', 'me', 'money', '.']\n",
      "['in', 'actuality', 'i', \"'\", 'm', 'a', 'biomedical', 'equipment', 'technician', 'at', 'a', 'children', \"'\", 's', 'hospital', '.', '.']\n",
      "['i', 'do', 'admire', 'stan', 'lee', 'though', '.', '.']\n",
      "['i', 'am', 'a', 'music', 'fan', ',', 'but', 'never', 'really', 'go', 'because', 'i', 'always', 'think', 'most', 'artists', 'sound', 'worse', 'live', '.', '.', 'yeah', 'i', 'am', 'an', 'artist', 'but', 'i', 'think', 'doing', 'that', 'besides', 'a', 'janitor', 'job', 'is', 'a', 'talent', 'beyond', 'imagination', '.', '.']\n",
      "['lived', 'in', 'dc', 'for', 'a', 'while', ',', 'bout', 'five', 'mile', 'north', 'of', 'alexandria', ',', 'i', 'know', 'a', 'number', 'of', 'people', 'that', 'work', 'at', 'the', 'patent', 'and', 'trademark', 'office', ',', 'that', \"'\", 's', 'why', 'i', 'should', 'have', 'known', '.', '.']\n",
      "['.', 'we', 'used', 'to', 'have', 'a', 'dog', 'but', 'she', 'is', 'gone', ',', 'i', 'actually', 'wanted', 'to', 'get', 'a', 'dog', 'yesterday', 'i', 'was', 'at', 'the', 'pet', 'store', 'and', 'they', 'had', 'a', 'super', 'cute', 'shih', 'tzu', 'there', 'that', 'i', 'held', '!']\n",
      "['i', 'love', 'all', 'his', 'music', 'and', 'his', 'music', 'videos', 'were', 'very', 'creative', '.', 'ah', 'i', 'do', \"n't\", 'have', 'cable', 'so', 'i', 'just', 'watch', 'movies', 'and', 'youtube', ',', 'but', 'ya', 'i', 'guess', 'the', 'first', 'youtube', 'video', 'ever', 'uploaded', 'was', 'an', 'elephant', 'and', 'a', 'guy', 'talking', 'to', 'it', '.']\n",
      "['i', 'have', 'a', 'cousin', 'that', 'was', 'his', 'great', 'fan', 'because', 'of', 'his', 'genius', 'level', 'iq', '.']\n",
      "['i', 'want', 'to', 'become', 'a', 'professional', 'race', 'car', 'driver', 'though', '-', 'i', 'am', 'pretty', 'good', 'at', 'video', 'games', '.']\n",
      "['i', 'have', '2', 'kids', 'and', 'a', 'bunch', 'of', 'jobs', 'so', 'i', 'do', 'not', 'have', 'much', 'free', 'time', '.']\n",
      "['i', 'am', 'fron', 'chicago', 'and', 'an', 'illini', 'fan', '.']\n",
      "['i', 'have', 'older', 'family', 'members', 'who', 'watch', 'a', 'lot', 'of', 'fox', 'news', '.', '.']\n",
      "['i', 'like', 'it', 'but', 'i', 'am', 'a', 'really', 'bad', 'player', '!']\n",
      "['i', 'have', 'a', 'young', 'family', ',', 'all', 'my', 'free', 'time', 'seems', 'to', 'have', 'vanished', '.']\n",
      "['i', 'live', 'in', 'the', 'south', 'and', 'golf', 'courses', 'are', 'everywhere', 'here', ';', 'they', 'take', 'up', 'more', 'space', 'than', 'rhode', 'island', 'and', 'delaware', 'combined', 'in', 'america', '.', 'eminem', 'is', 'pretty', 'cool', ',', 'but', 'really', 'the', 'oscars', 'seem', 'too', 'political', '.', 'i', 'figure', 'they', 'dole', 'out', 'favors', 'to', 'their', 'favorites', '.', '.']\n",
      "['i', 'have', 'a', 'google', 'phone', '.']\n",
      "['i', 'used', 'to', 'have', 'snakes', '.']\n",
      "['i', 'had', 'a', 'mouse', 'that', 'ate', 'my', 'snake', 'once', '.']\n",
      "['my', 'son', 'loves', 'pokemon', ',', 'they', 'have', 'made', 'over', '750', 'episodes', 'and', 'i', \"'\", 'm', 'sure', 'he', \"'\", 's', 'watched', 'all', 'of', 'them', '.', '.', 'oh', 'haha', 'i', 'do', \"n't\", 'have', 'it', ',', 'i', 'just', 'watch', 'youtube', ',', 'but', 'ya', 'ca', \"n't\", 'believe', 'blockbuster', 'had', 'the', 'chance', 'to', 'buy', 'them', 'for', 'only', '50', 'million', '!']\n",
      "['i', 'have', 'two', 'sons', '.']\n",
      "['i', 'am', 'a', 'facebook', 'user', 'not', 'into', 'much', 'other', 'than', 'that', ',', 'how', 'about', 'you', '?']\n",
      "['i', 'live', 'in', 'the', 'city', 'so', 'there', \"'\", 's', 'lots', 'to', 'do', '.']\n",
      "['i', 'have', 'cats', 'now', '.']\n",
      "['not', 'really', ',', 'i', \"'\", 'm', 'not', 'originally', 'from', 'the', 'us', 'so', 'it', 'is', 'not', 'in', 'my', 'blood', ',', 'it', 'is', 'another', 'thing', 'that', 'does', 'not', 'say', 'entertainment', 'to', 'me', '.']\n",
      "['i', 'have', 'a', 'dog', ',', 'i', 'enjoy', 'the', 'peaceful', 'entertainment', 'of', 'a', 'long', 'walk', 'with', 'then', 'dog', '.', '.']\n",
      "['i', 'used', 'to', 'love', 'norm', 'macdonald', 'on', 'that', 'show', '.']\n",
      "['i', 'was', 'familiar', 'with', 'the', 'giants', 'since', 'i', 'used', 'to', 'live', 'in', 'the', 'bat', 'area', '.', '.']\n",
      "['i', 'used', 'to', 'have', 'a', 'husky', '.']\n",
      "['i', 'live', 'in', 'a', 'small', 'town', '.']\n",
      "['yea', ',', 'i', 'have', 'actually', 'been', 'to', 'japan', ',', 'lots', 'of', 'pet', 'rabbits', 'and', 'reptiles', 'there', '.', '.']\n",
      "['i', 'do', \"n't\", 'have', 'any', 'children', ',', 'and', 'while', 'i', 'do', 'like', 'disney', ',', 'my', 'tastes', 'in', 'tv', 'usually', 'lean', 'more', 'towards', 'sci-fi', '/', 'fantasy', '.', '.']\n",
      "['i', 'live', 'in', 'michigan', 'so', 'i', 'have', 'been', 'there', 'a', 'few', 'times', '.']\n",
      "['i', 'am', 'not', 'a', 'soccer', 'fan', ',', 'i', 'live', 'in', 'the', 'us', '.']\n",
      "['since', 'i', 'am', 'canadian', ',', '40', '%', 'of', 'the', 'music', 'on', 'the', 'radio', 'that', 'i', 'hear', 'come', 'from', 'canadian', 'artist', '.']\n",
      "['the', 'bulls', ',', 'i', 'am', 'from', 'chicago', '.']\n",
      "['i', 'live', 'in', 'a', 'part', 'of', 'the', 'world', 'with', 'a', 'lot', 'of', 'snow', ',', 'so', 'i', \"'\", 'm', 'more', 'used', 'to', 'ice', 'hockey', '.']\n",
      "['i', 'live', 'in', 'michigan', 'so', 'it', 'was', 'interesting', 'for', 'me', 'to', 'learn', '.']\n",
      "['i', 'am', 'from', 'las', 'vegas', '.']\n",
      "['i', 'do', 'have', 'netflix', 'i', 'love', 'stranger', 'things', '!']\n",
      "['we', 'had', 'a', 'cadillac', 'convertible', 'when', 'i', 'was', 'a', 'kid', '.']\n",
      "['i', 'use', 'to', 'live', 'near', 'lake', 'michigan', '.']\n"
     ]
    }
   ],
   "source": [
    "for i, sent in enumerate(x):\n",
    "    ok = False\n",
    "    for tag in y[i]:\n",
    "        if tag == 'B-fact' or tag == 'I-fact':\n",
    "            ok = True\n",
    "    \n",
    "    if ok:\n",
    "        print(sent)"
   ],
   "metadata": {
    "collapsed": false,
    "pycharm": {
     "name": "#%%\n"
    }
   }
  },
  {
   "cell_type": "code",
   "execution_count": 7,
   "outputs": [
    {
     "name": "stdout",
     "output_type": "stream",
     "text": [
      "\\hline\n",
      " O & 22787 \\ \n",
      "\\hline\n",
      " B-subject & 2294 \\ \n",
      "\\hline\n",
      " I-subject & 42 \\ \n",
      "\\hline\n",
      " B-preference & 1079 \\ \n",
      "\\hline\n",
      " I-preference & 699 \\ \n",
      "\\hline\n",
      " B-activity & 399 \\ \n",
      "\\hline\n",
      " I-activity & 299 \\ \n",
      "\\hline\n",
      " B-object & 1373 \\ \n",
      "\\hline\n",
      " I-object & 650 \\ \n"
     ]
    }
   ],
   "source": [
    "labels = {l : 0 for l in c.labels}\n",
    "for tags in y:\n",
    "    for tag in tags:\n",
    "        if tag in labels:\n",
    "            labels[tag] += 1\n",
    "labels\n",
    "\n",
    "for tag, count in labels.items():\n",
    "    print('\\hline\\n', \"{} & {} \\\\ \".format(tag, count))"
   ],
   "metadata": {
    "collapsed": false,
    "pycharm": {
     "name": "#%%\n"
    }
   }
  },
  {
   "cell_type": "code",
   "execution_count": 8,
   "outputs": [
    {
     "name": "stdout",
     "output_type": "stream",
     "text": [
      "\\hline\n",
      " O & 22787 \\ \n",
      "\\hline\n",
      " B-subject & 2294 \\ \n",
      "\\hline\n",
      " I-subject & 42 \\ \n",
      "\\hline\n",
      " B-preference & 1079 \\ \n",
      "\\hline\n",
      " I-preference & 699 \\ \n",
      "\\hline\n",
      " B-activity & 399 \\ \n",
      "\\hline\n",
      " I-activity & 299 \\ \n",
      "\\hline\n",
      " B-object & 1373 \\ \n",
      "\\hline\n",
      " I-object & 650 \\ \n"
     ]
    }
   ],
   "source": [
    "labels = {l : 0 for l in c.labels}\n",
    "for tags in y:\n",
    "    for tag in tags:\n",
    "        if tag in labels:\n",
    "            labels[tag] += 1\n",
    "labels\n",
    "\n",
    "for tag, count in labels.items():\n",
    "    print('\\hline\\n', \"{} & {} \\\\ \".format(tag, count))"
   ],
   "metadata": {
    "collapsed": false,
    "pycharm": {
     "name": "#%%\n"
    }
   }
  }
 ],
 "metadata": {
  "kernelspec": {
   "name": "python3",
   "language": "python",
   "display_name": "Python 3"
  },
  "language_info": {
   "codemirror_mode": {
    "name": "ipython",
    "version": 2
   },
   "file_extension": ".py",
   "mimetype": "text/x-python",
   "name": "python",
   "nbconvert_exporter": "python",
   "pygments_lexer": "ipython2",
   "version": "2.7.6"
  }
 },
 "nbformat": 4,
 "nbformat_minor": 0
}