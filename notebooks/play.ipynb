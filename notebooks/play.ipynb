{
 "cells": [
  {
   "cell_type": "code",
   "execution_count": 14,
   "metadata": {
    "collapsed": true,
    "pycharm": {
     "is_executing": false
    }
   },
   "outputs": [
    {
     "name": "stdout",
     "text": [
      "     sent-token      letters     word BIO         label\n0           1-1          0-3      the   O             _\n1           1-2          4-8     last   O             _\n2           1-3         9-16  concert   O             _\n3           1-4        17-18        i   B  subject[414]\n4           1-5        19-23     went   O             _\n...         ...          ...      ...  ..           ...\n5501     411-16  25018-25021      use   O             _\n5502     411-17  25022-25024       it   O             _\n5503     411-18  25025-25028      for   O             _\n5504     411-19  25029-25032      the   O             _\n5505     411-20  25033-25037     news   O             _\n\n[5506 rows x 5 columns]\n{'fact': 21, 'preference': 112, 'activity': 29, 'subject': 410, 'event': 3}\n"
     ],
     "output_type": "stream"
    }
   ],
   "source": [
    "import os\n",
    "from corpus_process import data\n",
    "\n",
    "corpus = data(os.path.join(os.pardir, 'data/sensitive-2.tsv'))\n",
    "corpus.lower_words()\n",
    "corpus.automatic_subject_tagging()\n",
    "corpus.build_bio()\n",
    "\n",
    "print(corpus.csv)\n",
    "print(corpus.label_count)"
   ]
  }
 ],
 "metadata": {
  "kernelspec": {
   "name": "python3",
   "language": "python",
   "display_name": "Python 3"
  },
  "language_info": {
   "codemirror_mode": {
    "name": "ipython",
    "version": 2
   },
   "file_extension": ".py",
   "mimetype": "text/x-python",
   "name": "python",
   "nbconvert_exporter": "python",
   "pygments_lexer": "ipython2",
   "version": "2.7.6"
  },
  "pycharm": {
   "stem_cell": {
    "cell_type": "raw",
    "source": [],
    "metadata": {
     "collapsed": false
    }
   }
  }
 },
 "nbformat": 4,
 "nbformat_minor": 0
}